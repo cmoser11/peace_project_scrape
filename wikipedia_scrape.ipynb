{
 "cells": [
  {
   "cell_type": "code",
   "execution_count": 45,
   "id": "d4a39495-aef2-444e-8378-9c26273bd4da",
   "metadata": {
    "tags": []
   },
   "outputs": [],
   "source": [
    "import pandas as pd\n",
    "import numpy as np\n",
    "import re, tldextract, time\n",
    "from sklearn import metrics\n",
    "import spacy\n",
    "from spacy import displacy\n",
    "from collections import Counter\n",
    "\n",
    "from nltk.tokenize.treebank import TreebankWordDetokenizer\n",
    "\n",
    "\n",
    "import time\n",
    "\n",
    "# get the start time\n",
    "# from urlextract import URLExtract\n",
    "# url_extractor = URLExtract()"
   ]
  },
  {
   "cell_type": "code",
   "execution_count": null,
   "id": "a80735c2-7b85-4601-a778-b3d219e6f9cc",
   "metadata": {
    "tags": []
   },
   "outputs": [],
   "source": [
    "import boto3\n",
    "import os\n",
    "\n",
    "\n",
    "from botocore.exceptions import ClientError\n",
    "\n",
    "import os\n",
    "from pandasai import PandasAI\n",
    "from pandasai.llm.openai import OpenAI\n",
    "from pandasai import SmartDataframe\n",
    "from langchain.llms import AzureOpenAI\n",
    "\n",
    "\n",
    "import openai\n",
    "\n",
    "openai.api_key = os.getenv(\"AZURE_OPENAI_KEY\")\n",
    "openai.api_base = os.getenv(\"AZURE_OPENAI_ENDPOINT\") \n",
    "\n",
    "openai.api_type = 'azure'\n",
    "openai.api_version = '2023-05-15' # this may change in the future\n",
    "\n",
    "session = boto3.Session(profile_name='cmoser') # see Amazon_Comprehend_README.md\n",
    "comp_client = session.client('comprehend')\n",
    "\n",
    "os.getenv(\"AZURE_OPENAI_ENDPOINT\")\n",
    "\n",
    "comp_client = session.client('comprehend')\n",
    "\n",
    "\n",
    "deployment_name='peace-project' \n",
    "\n",
    "\n"
   ]
  },
  {
   "cell_type": "code",
   "execution_count": null,
   "id": "ce33fd95-e615-4cf2-aaf4-83c9a0542573",
   "metadata": {
    "tags": []
   },
   "outputs": [],
   "source": []
  },
  {
   "cell_type": "code",
   "execution_count": null,
   "id": "71a045c6-3964-4fe9-aabb-d96d39411c19",
   "metadata": {
    "tags": []
   },
   "outputs": [],
   "source": [
    "# Import package\n",
    "import wikipedia\n",
    "# Specify the title of the Wikipedia page\n",
    "\n",
    "\n",
    "leader_names= ['Kim Jong Un', 'Augusto Pinochet']\n",
    "\n",
    "\n",
    "wiki_list = []\n",
    "\n",
    "def scrape_wikipedia(leader_names):\n",
    "    for name in leader_names:\n",
    "            wiki = wikipedia.page(name, auto_suggest=False)\n",
    "            text = wiki.content\n",
    "            wiki_list.append(text)\n",
    "\n",
    "\n",
    "           \n",
    "scrape_wikipedia(leader_names)\n",
    "\n",
    "\n"
   ]
  },
  {
   "cell_type": "code",
   "execution_count": null,
   "id": "2930d90f-f1fb-48e1-87f4-01e33eded8be",
   "metadata": {
    "tags": []
   },
   "outputs": [],
   "source": [
    "\n",
    "def leader_name(text):\n",
    "    start_phrase = text + 'Q: Which leader is this text about?' \n",
    "    response = openai.Completion.create(engine=deployment_name, prompt=start_phrase, max_tokens=7, temperature = 0)\n",
    "    text = response['choices'][0]['text'].replace('\\n', '').replace(' .', '.').strip()\n",
    "    return text\n",
    "\n",
    "\n",
    "def lived_abroad(text):\n",
    "    start_phrase = text + 'Q: Did this leader live abroad before coming into power? Answer this question with either a yes or no' \n",
    "    response = openai.Completion.create(engine=deployment_name, prompt=start_phrase, max_tokens=3, temperature =0)\n",
    "    text = response['choices'][0]['text'].replace('\\n', '').replace(' .', '.').strip()\n",
    "    return text\n",
    "\n",
    "\n",
    "def year_abroad(text):\n",
    "    start_phrase = text + 'Q: Did this leader live abroad before coming into power for at least a year? Answer this question with either a yes or no' \n",
    "    response = openai.Completion.create(engine=deployment_name, prompt=start_phrase, max_tokens=3, temperature =0)\n",
    "    text = response['choices'][0]['text'].replace('\\n', '').replace(' .', '.').strip()\n",
    "    return text\n",
    "\n",
    "\n",
    "leader_name_list = []\n",
    "lived_abroad_list = []\n",
    "year_abroad_list = []\n",
    "\n",
    "for text in wiki_list:\n",
    "    leader_name_list.append(leader_name(text))\n",
    "    lived_abroad_list.append(lived_abroad(text))\n",
    "    year_abroad_list.append(year_abroad(text))\n",
    "\n",
    "\n",
    "leader_df = pd.DataFrame(\n",
    "    {'name': leader_name_list,\n",
    "     'lived_abroad': lived_abroad_list,\n",
    "     'year_abroad': year_abroad_list\n",
    "    })\n",
    "\n",
    "\n",
    "\n",
    "\n"
   ]
  },
  {
   "cell_type": "code",
   "execution_count": null,
   "id": "b662eb2b-bdd4-4d19-925f-6234093611a0",
   "metadata": {
    "tags": []
   },
   "outputs": [],
   "source": [
    "leader_df"
   ]
  },
  {
   "cell_type": "code",
   "execution_count": null,
   "id": "ecd2c9fd-4d00-46de-8d44-198cc034f829",
   "metadata": {
    "tags": []
   },
   "outputs": [],
   "source": []
  },
  {
   "cell_type": "code",
   "execution_count": null,
   "id": "d884c0bf-de39-4c5e-b828-8f3d014a126c",
   "metadata": {},
   "outputs": [],
   "source": []
  }
 ],
 "metadata": {
  "kernelspec": {
   "display_name": "Python 3 (ipykernel)",
   "language": "python",
   "name": "python3"
  },
  "language_info": {
   "codemirror_mode": {
    "name": "ipython",
    "version": 3
   },
   "file_extension": ".py",
   "mimetype": "text/x-python",
   "name": "python",
   "nbconvert_exporter": "python",
   "pygments_lexer": "ipython3",
   "version": "3.9.18"
  }
 },
 "nbformat": 4,
 "nbformat_minor": 5
}
